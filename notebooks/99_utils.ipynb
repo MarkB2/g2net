{
 "cells": [
  {
   "cell_type": "code",
   "execution_count": null,
   "id": "52c33d24-bda4-43ef-a951-26b3c0b9c73c",
   "metadata": {},
   "outputs": [],
   "source": [
    "from pathlib import Path\n",
    "import hydra\n",
    "import omegaconf\n",
    "import pyrootutils\n",
    "\n",
    "root = pyrootutils.setup_root(Path('.'), pythonpath=True)\n",
    "cfg = omegaconf.OmegaConf.load(root / \"configs\" / \"datamodule\" / \"mnist.yaml\")\n",
    "cfg.data_dir = str(root / \"data\")\n",
    "dl = hydra.utils.instantiate(cfg)\n"
   ]
  },
  {
   "cell_type": "code",
   "execution_count": null,
   "id": "965e8c86-19c4-443c-bc18-a3721dc2b254",
   "metadata": {},
   "outputs": [
    {
     "data": {
      "text/plain": [
       "src.datamodules.mnist_datamodule.MNISTDataModule"
      ]
     },
     "execution_count": null,
     "metadata": {},
     "output_type": "execute_result"
    }
   ],
   "source": [
    "type(dl)"
   ]
  }
 ],
 "metadata": {
  "kernelspec": {
   "display_name": "Python 3 (ipykernel)",
   "language": "python",
   "name": "python3"
  }
 },
 "nbformat": 4,
 "nbformat_minor": 5
}
